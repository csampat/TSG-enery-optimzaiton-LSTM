{
 "cells": [
  {
   "cell_type": "code",
   "execution_count": null,
   "metadata": {},
   "outputs": [],
   "source": [
    "import os\n",
    "import datetime\n",
    "import IPython\n",
    "import IPython.display\n",
    "import matplotlib as mpl\n",
    "import matplotlib.pyplot as plt\n",
    "import numpy as np\n",
    "import pandas as pd\n",
    "import seaborn as sns\n",
    "import tensorflow as tf\n",
    "\n",
    "mpl.rcParams['figure.figsize'] = (8, 6)\n",
    "mpl.rcParams['axes.grid'] = False\n"
   ]
  },
  {
   "cell_type": "code",
   "execution_count": null,
   "metadata": {},
   "outputs": [],
   "source": [
    "# importing data from different runs\n",
    "run_name = 'Run3'\n",
    "\n",
    "tsg_screen_data = pd.read_excel('./TSGscreen/' + run_name+'.xlsx')\n",
    "tsg_screen_data.dropna(axis=0)\n",
    "tsg_screen_data.dtypes\n",
    "tsg_screen_data['Time'] = pd.to_datetime(tsg_screen_data['Time'],format='%H:%M:%S')\n",
    "tsg_screen_data.head()\n",
    "feeder_data = pd.read_excel('./Feederdata/' + run_name+'.xlsx')\n",
    "feeder_data = feeder_data.dropna(axis=1)\n",
    "feeder_data['Time'] = pd.to_datetime(feeder_data['Time'],format='%H:%M:%S')\n",
    "feeder_data.head()\n",
    "eyecon_data = pd.read_excel('./Eyecondata/' + run_name+'.xlsx')\n",
    "eyecon_data['Time'] = pd.to_datetime(eyecon_data['Time'],format='%H:%M:%S')\n",
    "eyecon_data.head()\n",
    "feed_eyecon = pd.merge_asof(eyecon_data,feeder_data,on='Time', tolerance=pd.Timedelta('2s'))\n",
    "feed_eyecon = feed_eyecon.dropna(axis=0)\n",
    "len(feed_eyecon)\n",
    "\n",
    "combined_Data = pd.merge_asof(feed_eyecon,tsg_screen_data,on='Time', tolerance=pd.Timedelta('2s'))\n",
    "combined_Data = combined_Data.dropna(axis=0)\n",
    "combined_Data.columns.values\n",
    "# plot_cols = [' D_v50', 'Torque','Zone 2','Zone 3','Zone 4','Zone 5','Zone 6','Zone 7','Zone 8']\n",
    "# plot_cols = ['Zone 2','Zone 3','Zone 4','Zone 5','Zone 6','Zone 7','Zone 8']\n",
    "plot_cols = [' D_v50', 'Torque']\n",
    "time_arr = combined_Data.pop(combined_Data.columns.values[1])\n",
    "plot_features = combined_Data[plot_cols]\n",
    "plot_features.index = time_arr\n",
    "_ = plot_features.plot(subplots=True)\n",
    "combined_Data = combined_Data.drop([' TimeStamp','TimeStamp'],axis=1)\n",
    "combined_Data = combined_Data.drop([' D_v10', ' D_v90', ' D_n10',' D_n50', ' D_n90', ' Median diameter',' Std deviation',' Shape mean', ' Shape RSD', '7 Massflow','7 Setpoint', '7 ScrewSpeed', '7 AveFeedFactor','7 DriveCommand'],axis=1)\n"
   ]
  },
  {
   "cell_type": "code",
   "execution_count": null,
   "metadata": {},
   "outputs": [],
   "source": [
    "column_indices = {name: i for i, name in enumerate(combined_Data.columns)}\n",
    "\n",
    "n = len(combined_Data)\n",
    "train_combined_Data = combined_Data[0:int(n*0.7)]\n",
    "val_combined_Data = combined_Data[int(n*0.7):int(n*0.9)]\n",
    "test_combined_Data = combined_Data[int(n*0.9):]\n",
    "\n",
    "num_features = combined_Data.shape[1]\n",
    "train_mean = train_combined_Data.mean()\n",
    "train_std = train_combined_Data.std()\n",
    "\n",
    "train_combined_Data = (train_combined_Data - train_mean) / train_std\n",
    "val_combined_Data = (val_combined_Data - train_mean) / train_std\n",
    "test_combined_Data = (test_combined_Data - train_mean) / train_std\n",
    "combined_Data_std = (combined_Data - train_mean) / train_std\n",
    "combined_Data_std = combined_Data_std.melt(var_name='Column', value_name='Normalized')\n",
    "plt.figure(figsize=(12, 6))\n",
    "ax = sns.violinplot(x='Column', y='Normalized', data=combined_Data_std)\n",
    "_ = ax.set_xticklabels(combined_Data.keys(), rotation=90)\n",
    "\n"
   ]
  },
  {
   "cell_type": "code",
   "execution_count": null,
   "metadata": {},
   "outputs": [],
   "source": [
    "train_combined_Data.head()"
   ]
  },
  {
   "cell_type": "code",
   "execution_count": null,
   "metadata": {},
   "outputs": [],
   "source": [
    "y_d50 = np.array(train_combined_Data[' D_v50'])\n",
    "y_torque = np.array(train_combined_Data['Torque'])\n",
    "x_MFR = np.array(train_combined_Data['Mass flow rate'])\n",
    "x_netweight = np.array(train_combined_Data['7 NetWeight'])\n",
    "x_LFR = np.array(train_combined_Data['Liquid flow rate'])\n",
    "x_time = np.array(train_combined_Data['Time index'])\n",
    "x_rpm = np.linspace(train_mean['Actual RPM'],train_mean['Actual RPM'],len(train_combined_Data))\n",
    "print(x_rpm)"
   ]
  },
  {
   "cell_type": "code",
   "execution_count": null,
   "metadata": {},
   "outputs": [],
   "source": [
    "# split a multivariate sequence into samples\n",
    "def split_sequences(sequences, n_steps):\n",
    "\tX, y = list(), list()\n",
    "\tfor i in range(len(sequences)):\n",
    "\t\t# find the end of this pattern\n",
    "\t\tend_ix = i + n_steps\n",
    "\t\t# check if we are beyond the dataset\n",
    "\t\tif end_ix > len(sequences):\n",
    "\t\t\tbreak\n",
    "\t\t# gather input and output parts of the pattern\n",
    "\t\tseq_x, seq_y = sequences[i:end_ix, :-1], sequences[end_ix-1, -1]\n",
    "\t\tX.append(seq_x)\n",
    "\t\ty.append(seq_y)\n",
    "\treturn np.array(X), np.array(y)"
   ]
  },
  {
   "cell_type": "code",
   "execution_count": null,
   "metadata": {},
   "outputs": [],
   "source": [
    "# reshape into X=t and Y=t+1\n",
    "# choose a number of time steps\n",
    "n_steps = 5\n",
    "x_MFR = x_MFR.reshape((len(x_MFR), 1))\n",
    "x_time = x_time.reshape((len(x_time), 1))\n",
    "y_torque = y_torque.reshape((len(y_torque), 1))\n",
    "# convert into input/output\n",
    "dataset = np.hstack((x_MFR,x_time,y_torque))\n",
    "X, y = split_sequences(dataset, n_steps)"
   ]
  },
  {
   "cell_type": "code",
   "execution_count": null,
   "metadata": {},
   "outputs": [],
   "source": [
    "for i in range(len(X)):\n",
    "\tprint(X[i], y[i])"
   ]
  },
  {
   "cell_type": "code",
   "execution_count": null,
   "metadata": {},
   "outputs": [],
   "source": [
    "from keras.models import Sequential\n",
    "from keras.layers import LSTM\n",
    "from keras.layers import Dense\n",
    "# define model\n",
    "n_features = 2\n",
    "model = Sequential()\n",
    "model.add(LSTM(50, activation='relu', input_shape=(n_steps, n_features)))\n",
    "model.add(Dense(1))\n",
    "model.compile(optimizer='adam', loss='mse')"
   ]
  },
  {
   "cell_type": "code",
   "execution_count": null,
   "metadata": {},
   "outputs": [],
   "source": [
    "model.fit(X, y, epochs=200, verbose=1)\n",
    "# demonstrate prediction\n",
    "x_input = np.array([[0.5, 0.2], [0.2, -0.1], [1, .5], [.1, .5], [.2, .5]])\n",
    "x_input = x_input.reshape((1, n_steps, n_features))\n",
    "yhat = model.predict(x_input, verbose=0)\n",
    "print(yhat)"
   ]
  },
  {
   "cell_type": "code",
   "execution_count": null,
   "metadata": {},
   "outputs": [],
   "source": [
    "# split a univariate sequence into samples\n",
    "def split_sequence(sequence, n_steps_in, n_steps_out):\n",
    "\tX, y = list(), list()\n",
    "\tfor i in range(len(sequence)):\n",
    "\t\t# find the end of this pattern\n",
    "\t\tend_ix = i + n_steps_in\n",
    "\t\tout_end_ix = end_ix + n_steps_out\n",
    "\t\t# check if we are beyond the sequence\n",
    "\t\tif out_end_ix > len(sequence):\n",
    "\t\t\tbreak\n",
    "\t\t# gather input and output parts of the pattern\n",
    "\t\tseq_x, seq_y = sequence[i:end_ix,:], sequence[end_ix:out_end_ix,:]\n",
    "\t\tX.append(seq_x)\n",
    "\t\ty.append(seq_y)\n",
    "\treturn np.array(X), np.array(y)\n",
    "\n",
    "# choose a number of time steps\n",
    "n_steps_in, n_steps_out = 50, len(test_combined_Data)\n",
    "\n",
    "x_MFR = x_MFR.reshape((len(x_MFR), 1))\n",
    "x_time = x_time.reshape((len(x_time), 1))\n",
    "x_LFR = x_LFR.reshape((len(x_LFR), 1))\n",
    "x_rpm = x_rpm.reshape((len(x_rpm), 1))\n",
    "x_netweight = x_netweight.reshape((len(x_netweight), 1))\n",
    "y_torque = y_torque.reshape((len(y_torque), 1))\n",
    "y_d50 = y_d50.reshape((len(y_d50),1))\n",
    "\n",
    "dataset = np.hstack((x_MFR,x_time,x_LFR,x_rpm,x_netweight,y_torque,y_d50))\n",
    "X, y = split_sequence(dataset, n_steps_in, n_steps_out)\n",
    "n_features = 5\n",
    "X=X[:,:,:5]\n",
    "y=y[:,:,5:7]\n",
    "# define model\n",
    "model = Sequential()\n",
    "model.add(LSTM(100, activation='relu', return_sequences=True, input_shape=(n_steps_in, n_features)))\n",
    "model.add(LSTM(100, activation='relu'))\n",
    "model.add(Dense(n_steps_out))\n",
    "model.compile(optimizer='adam', loss='mse')\n",
    "\n",
    "# fit model\n",
    "model.fit(X, y, epochs=200, verbose=0)\n",
    "# print(y.shape)"
   ]
  },
  {
   "cell_type": "code",
   "execution_count": null,
   "metadata": {},
   "outputs": [],
   "source": [
    "test_y_d50 = np.array(test_combined_Data[' D_v50'])\n",
    "test_y_torque = np.array(test_combined_Data['Torque'])\n",
    "test_x_MFR = np.array(test_combined_Data['Mass flow rate'])\n",
    "test_x_netweight = np.array(test_combined_Data['7 NetWeight'])\n",
    "test_x_LFR = np.array(test_combined_Data['Liquid flow rate'])\n",
    "test_x_time = np.array(test_combined_Data['Time index'])\n",
    "test_x_rpm = np.linspace(train_mean['Actual RPM'],train_mean['Actual RPM'],len(test_combined_Data))\n",
    "\n",
    "test_y_d50 = test_y_d50.reshape(len(test_y_d50),1)\n",
    "test_y_torque = test_y_torque.reshape(len(test_y_torque),1)\n",
    "test_x_MFR = test_x_MFR.reshape(len(test_x_MFR),1)\n",
    "test_x_netweight = test_x_netweight.reshape(len(test_x_netweight),1)\n",
    "test_x_LFR = test_x_LFR.reshape(len(test_x_LFR),1)\n",
    "test_x_time = test_x_time.reshape(len(test_x_time),1)\n",
    "test_x_rpm = test_x_rpm.reshape(len(test_x_rpm),1)\n",
    "\n",
    "\n",
    "\n",
    "dataset_test = np.hstack((test_x_MFR,test_x_time,test_x_LFR,test_x_rpm,test_x_netweight))\n",
    "# demonstrate prediction\n",
    "# x_input = array([[70, 75], [80, 85], [90, 95]])\n",
    "x_input = dataset_test.reshape((1, len(dataset_test), n_features))\n",
    "yhat = model.predict(x_input, verbose=0)\n",
    "print(yhat)"
   ]
  },
  {
   "cell_type": "code",
   "execution_count": null,
   "metadata": {},
   "outputs": [],
   "source": []
  }
 ],
 "metadata": {
  "interpreter": {
   "hash": "cef7cd0469155a29afd544290d573430e35716703753df15e7b5f11a91b75929"
  },
  "kernelspec": {
   "display_name": "Python 3.7.7 64-bit ('base': conda)",
   "name": "python3"
  },
  "language_info": {
   "codemirror_mode": {
    "name": "ipython",
    "version": 3
   },
   "file_extension": ".py",
   "mimetype": "text/x-python",
   "name": "python",
   "nbconvert_exporter": "python",
   "pygments_lexer": "ipython3",
   "version": "3.7.7"
  },
  "orig_nbformat": 4
 },
 "nbformat": 4,
 "nbformat_minor": 2
}
