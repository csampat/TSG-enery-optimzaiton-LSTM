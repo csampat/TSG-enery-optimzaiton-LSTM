{
 "cells": [
  {
   "cell_type": "code",
   "execution_count": null,
   "metadata": {},
   "outputs": [],
   "source": [
    "from tensorflow import keras\n",
    "\n",
    "lstm_torque = keras.models.load_model('Bidirectional_LSTM_Multivariate_alldatafiles_torque_new.h5')\n",
    "lstm_d50 = keras.models.load_model('Bidirectional_LSTM_Multivariate_alldatafiles_d50.h5')"
   ]
  },
  {
   "cell_type": "code",
   "execution_count": null,
   "metadata": {},
   "outputs": [],
   "source": [
    "from HelperFunctions.FileReader import FileReader\n",
    "import pandas as pd\n",
    "# Reading data files \n",
    "run_name_all = ['Run1.xlsx','Run2.xlsx','Run5.xlsx','Run3.xlsx','Run4.xlsx','Run6.xlsx']\n",
    "# run_name_all = ['Run2.xlsx']\n",
    "run_time = 29 # minutes\n",
    "run_path_tsg = './TSGscreen/'\n",
    "run_path_feeder = './Feederdata/'\n",
    "run_path_eyecon = './Eyecondata/'\n",
    "combined_datafile = pd.DataFrame()\n",
    "for run_name in run_name_all:\n",
    "\n",
    "    fr_obj = FileReader(run_name)\n",
    "\n",
    "    tsg_data = fr_obj.read_excelFile(run_path_tsg,0)\n",
    "    feeder_data = fr_obj.read_excelFile(run_path_feeder,1)\n",
    "    eyecon_data = fr_obj.read_excelFile(run_path_eyecon,0)\n",
    "\n",
    "    print(len(tsg_data))\n",
    "    print(len(eyecon_data))\n",
    "    print(len(feeder_data))\n",
    "\n",
    "    combined_datafile = combined_datafile.append(fr_obj.combine_datafiles(tsg_data,eyecon_data,feeder_data))\n",
    "    print(len(combined_datafile))"
   ]
  },
  {
   "cell_type": "code",
   "execution_count": null,
   "metadata": {},
   "outputs": [],
   "source": [
    "from sklearn.preprocessing import MinMaxScaler\n",
    "\n",
    "X_scaler = MinMaxScaler()\n",
    "Y_scaler_tor = MinMaxScaler()\n",
    "Y_scaler_d50 = MinMaxScaler()\n",
    "\n",
    "\n",
    "X_data = X_scaler.fit_transform(combined_datafile[['Mass flow rate','7 NetWeight','Liquid flow rate','Actual RPM','Torque',' D_v50']])\n",
    "Y_data_Torque = Y_scaler_tor.fit_transform(combined_datafile[['Torque']])\n",
    "Y_data_d50 = Y_scaler_d50.fit_transform(combined_datafile[[' D_v50']])\n",
    "\n",
    "\n"
   ]
  },
  {
   "cell_type": "code",
   "execution_count": null,
   "metadata": {},
   "outputs": [],
   "source": [
    "import numpy as np\n",
    "energy_used = np.trapz(np.multiply(combined_datafile['Actual RPM'],combined_datafile['Torque']) * (2*np.pi/60))\n",
    "energy_used_per_weight = energy_used / (np.mean(combined_datafile['Mass flow rate']) * (run_time * 60) /3600)\n",
    "print((energy_used))\n"
   ]
  },
  {
   "cell_type": "code",
   "execution_count": null,
   "metadata": {},
   "outputs": [],
   "source": [
    "opt_data = pd.read_excel('./optimization_Data.xlsx')\n",
    "opt_data = opt_data.dropna(axis=1)\n",
    "# print(opt_data.describe)"
   ]
  },
  {
   "cell_type": "code",
   "execution_count": null,
   "metadata": {},
   "outputs": [],
   "source": [
    "energy_used_opt_30min = np.multiply(opt_data['RPM'],opt_data['Torque']) * (2*np.pi) * 30\n",
    "energy_used_opt_30min_per_weight = np.divide(energy_used_opt_30min,opt_data['FlowRate (kg/hr)']) * (3600/(30*60))\n",
    "energy_used_opt_10min = np.multiply(opt_data['RPM'],opt_data['Torque']) * (2*np.pi) * 10\n",
    "energy_used_opt_10min_per_weight = np.divide(energy_used_opt_30min,opt_data['FlowRate (kg/hr)']) * (3600/(10*60))\n",
    "opt_data['10 min energy'] = energy_used_opt_10min_per_weight\n",
    "print(energy_used_opt_30min)\n",
    "print(energy_used_opt_10min)\n",
    "# "
   ]
  },
  {
   "cell_type": "code",
   "execution_count": null,
   "metadata": {},
   "outputs": [],
   "source": [
    "run_name_all = ['Run3.xlsx']\n",
    "run_time = 29 # minutes\n",
    "run_feedrate = 1.75\n",
    "run_rpm = 700\n",
    "run_ls = 1\n",
    "run_path_eyecon = './Eyecondata/'\n",
    "combined_datafile_single = pd.DataFrame()\n",
    "for run_name in run_name_all:\n",
    "\n",
    "    fr_obj = FileReader(run_name)\n",
    "\n",
    "    tsg_data = fr_obj.read_excelFile(run_path_tsg,0)\n",
    "    feeder_data = fr_obj.read_excelFile(run_path_feeder,1)\n",
    "    eyecon_data = fr_obj.read_excelFile(run_path_eyecon,0)\n",
    "\n",
    "\n",
    "    combined_datafile_single = combined_datafile_single.append(fr_obj.combine_datafiles(tsg_data,eyecon_data,feeder_data))\n",
    "    print(len(combined_datafile_single))\n",
    "\n",
    "lstm_input_predict = X_scaler.fit_transform(combined_datafile_single[['Mass flow rate','7 NetWeight','Liquid flow rate','Actual RPM','Torque',' D_v50']])\n",
    "energy_used = np.trapz(np.multiply(combined_datafile_single['Actual RPM'],combined_datafile_single['Torque']) * (2*np.pi/60))\n",
    "energy_used_per_weight = energy_used / (np.mean(combined_datafile_single['Mass flow rate']) * (run_time * 60) /3600)\n",
    "print((energy_used))"
   ]
  },
  {
   "cell_type": "code",
   "execution_count": null,
   "metadata": {},
   "outputs": [],
   "source": [
    "lstm_input_predict_200 = lstm_input_predict[:200]\n",
    "lstm_input_predict_200 = lstm_input_predict_200.reshape(1,200,6)"
   ]
  },
  {
   "cell_type": "code",
   "execution_count": null,
   "metadata": {},
   "outputs": [],
   "source": [
    "torque_predict = lstm_torque.predict(lstm_input_predict_200)\n",
    "torque_pred_10 = Y_scaler_tor.inverse_transform(torque_predict)\n",
    "d50_predict = lstm_d50.predict(lstm_input_predict_200)\n",
    "d50_pred_10 = Y_scaler_d50.inverse_transform(d50_predict)"
   ]
  },
  {
   "cell_type": "code",
   "execution_count": null,
   "metadata": {},
   "outputs": [],
   "source": [
    "print(len(torque_predict[0]))"
   ]
  },
  {
   "cell_type": "code",
   "execution_count": null,
   "metadata": {},
   "outputs": [],
   "source": [
    "energy_data_10mins = np.trapz(np.multiply(combined_datafile_single['Actual RPM'][:120],combined_datafile_single['Torque'][:120]) * (2*np.pi/60))\n",
    "energy_data_full200 = np.trapz(np.multiply(combined_datafile_single['Actual RPM'],combined_datafile_single['Torque']) * (2*np.pi/60))\n",
    "print(energy_data_10mins)\n",
    "print(energy_data_full200)\n",
    "\n"
   ]
  },
  {
   "cell_type": "code",
   "execution_count": null,
   "metadata": {},
   "outputs": [],
   "source": [
    "d50_dry  = np.array(Y_scaler_d50.inverse_transform(d50_predict)) / 2.1\n",
    "# print(d50_dry)\n",
    "# print(combined_datafile_single[' D_v50'][len(lstm_input_predict)-200:len(lstm_input_predict)] / 2.2)"
   ]
  },
  {
   "cell_type": "code",
   "execution_count": null,
   "metadata": {},
   "outputs": [],
   "source": [
    "# print(Y_scaler_tor.inverse_transform(torque_predict))\n",
    "# print(combined_datafile_single['Torque'][len(lstm_input_predict)-200:len(lstm_input_predict)])"
   ]
  },
  {
   "cell_type": "code",
   "execution_count": null,
   "metadata": {},
   "outputs": [],
   "source": [
    "#keeping RPM constant\n",
    "min_ss_data = np.argmin(opt_data[(opt_data['RPM']==run_rpm) & (opt_data['final d50']>450)]['10 min energy'])\n",
    "print(min_ss_data)\n",
    "print(opt_data['FlowRate (kg/hr)'][min_ss_data])\n",
    "print(opt_data['RPM'][min_ss_data])\n",
    "print(opt_data['L/S Ratio'][min_ss_data])\n",
    "print(opt_data['final d50'][min_ss_data])\n",
    "combined_datafile_single['Mass flow rate'][120:len(combined_datafile_single)] = np.linspace(opt_data['FlowRate (kg/hr)'][min_ss_data],opt_data['FlowRate (kg/hr)'][min_ss_data],len(combined_datafile_single)-120)\n",
    "combined_datafile_single['Liquid flow rate'][120:len(combined_datafile_single)] = np.linspace(opt_data['FlowRate (kg/hr)'][min_ss_data],opt_data['FlowRate (kg/hr)'][min_ss_data],len(combined_datafile_single)-120) * opt_data['L/S Ratio'][min_ss_data]\n",
    "combined_datafile_single[' D_v50'][120:len(combined_datafile_single)] = np.linspace(opt_data['final d50'][min_ss_data],opt_data['final d50'][min_ss_data],len(combined_datafile_single)-120)\n",
    "# print(combined_datafile_single[' D_v50'][120:320])\n",
    "print(combined_datafile_single)\n",
    "lstm_input_predict_10_20 = X_scaler.fit_transform(combined_datafile_single[['Mass flow rate','7 NetWeight','Liquid flow rate','Actual RPM','Torque',' D_v50']])\n",
    "lstm_input_predict_10_200 = lstm_input_predict_10_20[len(combined_datafile_single)-200:len(combined_datafile_single)]\n",
    "lstm_input_predict_10_200 = lstm_input_predict_10_200.reshape(1,200,6)\n",
    "torque_predict_10_20 = lstm_torque.predict(lstm_input_predict_10_200)\n",
    "torque_predict_10_20 = Y_scaler_tor.inverse_transform(torque_predict_10_20)\n",
    "d50_predict_10_20 = lstm_d50.predict(lstm_input_predict_10_200)\n",
    "d50_predict_10_20 = Y_scaler_d50.inverse_transform(d50_predict_10_20)\n",
    "\n",
    "plt.figure()\n",
    "plt.plot(combined_datafile_single['Torque'])\n",
    "plt.plot(np.concatenate([np.reshape(torque_predict_10_20,(200,)),np.reshape(torque_predict_10_20,(200,))[:160]]))\n",
    "plt.xlabel('Time points')\n",
    "plt.ylabel('Torque (N/m.s)')\n",
    "plt.legend(['Experimental','LSTM model prediction'])\n",
    "plt.rcParams.update({'font.size': 12})\n",
    "plt.rcParams[\"figure.figsize\"] = (9,6)\n"
   ]
  },
  {
   "cell_type": "code",
   "execution_count": null,
   "metadata": {},
   "outputs": [],
   "source": [
    "import matplotlib.pyplot as plt\n",
    "print(d50_pred_10.dtype)\n",
    "time = np.linspace(0,600,120)\n",
    "plt.plot(time,np.reshape(d50_pred_10[0,:120],(120,)))\n",
    "time1 = np.linspace(600,1200,120)\n",
    "plt.plot(time1,np.reshape(d50_predict_10_20[0,:120],(120,)))\n",
    "time2 = np.linspace(1200,1740,108)\n",
    "plt.plot(time2,np.reshape(d50_predict_10_20[0,:120],(120,))[:108])\n",
    "plt.ylim([800,1000])\n",
    "\n",
    "plt.plot(time,np.reshape(d50_pred_10[0,:120],(120,))/2.1)\n",
    "plt.plot(time1,np.reshape(d50_predict_10_20[0,:120],(120,))/2.1)\n",
    "plt.plot(time2,np.reshape(d50_predict_10_20[0,:120],(120,))[:108]/2.1)\n",
    "plt.ylim([400,1200])\n",
    "plt.legend(['D_50 exp Wet','Predicted D_50 10-20 mins Wet','Predicted D_50 20-29 mins Wet','D_50 exp Dry','Predicted D_50 10-20 mins Dry','Predicted D_50 20-29 mins Dry'])\n",
    "plt.ylabel('D_50 ($\\mu$m)')\n",
    "plt.xlabel('Time (seconds)')\n",
    "plt.figure()\n",
    "plt.plot(time,np.reshape(torque_pred_10[0,:120],(120,)))\n",
    "plt.plot(time1,np.reshape(torque_predict_10_20[0,:120],(120,)))\n",
    "plt.plot(time2,np.reshape(torque_predict_10_20[0,:120],(120,))[:108])\n",
    "plt.legend(['Torque exp','Predicted Torque 10-20 mins','Predicted Torque 20-29 mins'])\n",
    "plt.xlabel('Time (seconds)')\n",
    "plt.ylabel('Torque (N/m.s)')\n",
    "plt.ylim([1,4])\n",
    "energy_used_10 = np.trapz(np.multiply(combined_datafile_single['Actual RPM'][:120],combined_datafile_single['Torque'][:120]) * (2*np.pi/60))\n",
    "energy_used_per_weight = energy_used_10 / (np.mean(combined_datafile_single['Mass flow rate'][:120]) * (10 * 60) /3600)\n",
    "print(energy_used_10)\n",
    "energy_used_10_20 = np.trapz(np.multiply(combined_datafile_single['Actual RPM'][120:240],np.reshape(torque_predict_10_20[0,:120],(120,))) * (2*np.pi/60))\n",
    "energy_used_per_weight_10_20 = energy_used_10_20 / (np.mean(combined_datafile_single['Mass flow rate'][120:320]) * (10 * 60) /3600)\n",
    "print((energy_used_10_20))\n",
    "energy_used_20_end = np.trapz(np.multiply(combined_datafile_single['Actual RPM'][240:len(combined_datafile_single)],np.reshape(torque_predict_10_20[0,:120],(120,))[:len(combined_datafile_single)-240]) * (2*np.pi/60))\n",
    "energy_used_per_weight_20_end = energy_used_20_end / (np.mean(combined_datafile_single['Mass flow rate'][240:len(combined_datafile_single)]) * (4 * 60) /3600)\n",
    "print(energy_used_20_end)\n",
    "no_opt_energy = np.trapz(np.multiply(combined_datafile_single['Actual RPM'],combined_datafile_single['Torque']) * (2*np.pi/60))\n",
    "energy_used_per_weight_no_opt = no_opt_energy / (np.mean(combined_datafile_single['Mass flow rate']) * (run_time * 60) /3600)\n",
    "print(no_opt_energy)\n",
    "print(energy_used_10+energy_used_10_20+energy_used_20_end)\n",
    "print((no_opt_energy-energy_used_10-energy_used_10_20-energy_used_20_end)/no_opt_energy)"
   ]
  },
  {
   "cell_type": "code",
   "execution_count": null,
   "metadata": {},
   "outputs": [],
   "source": [
    "torque_col = np.concatenate([np.reshape(torque_predict_10_20,(200,)),np.reshape(torque_predict_10_20,(200,))[:160]])\n",
    "print(len(combined_datafile_single))\n",
    "energy_full = np.trapz(np.multiply(combined_datafile_single['Actual RPM'],torque_col[:len(combined_datafile_single)])) * (2*np.pi/60)\n",
    "print(energy_full)"
   ]
  },
  {
   "cell_type": "code",
   "execution_count": null,
   "metadata": {},
   "outputs": [],
   "source": [
    "#keeping feedrate constant\n",
    "min_ss_data = np.argmin(opt_data[(opt_data['FlowRate (kg/hr)']==run_feedrate) & (opt_data['final d50']>415)]['10 min energy'])\n",
    "print(min_ss_data)\n",
    "print(opt_data['FlowRate (kg/hr)'][min_ss_data])\n",
    "print(opt_data['RPM'][min_ss_data])\n",
    "print(opt_data['L/S Ratio'][min_ss_data])\n",
    "print(opt_data['final d50'][min_ss_data])\n",
    "combined_datafile_single['Mass flow rate'][120:len(combined_datafile_single)] = np.linspace(opt_data['FlowRate (kg/hr)'][min_ss_data],opt_data['FlowRate (kg/hr)'][min_ss_data],len(combined_datafile_single)-120)\n",
    "combined_datafile_single['Actual RPM'][120:len(combined_datafile_single)] = np.linspace(opt_data['RPM'][min_ss_data],opt_data['RPM'][min_ss_data],len(combined_datafile_single)-120)\n",
    "combined_datafile_single['Liquid flow rate'][120:len(combined_datafile_single)] = np.linspace(opt_data['FlowRate (kg/hr)'][min_ss_data],opt_data['FlowRate (kg/hr)'][min_ss_data],len(combined_datafile_single)-120) * opt_data['L/S Ratio'][min_ss_data]\n",
    "combined_datafile_single[' D_v50'][120:len(combined_datafile_single)] = np.linspace(opt_data['final d50'][min_ss_data],opt_data['final d50'][min_ss_data],len(combined_datafile_single)-120)\n",
    "# print(combined_datafile_single[' D_v50'][120:320])\n",
    "print(combined_datafile_single)\n",
    "lstm_input_predict_10_20 = X_scaler.fit_transform(combined_datafile_single[['Mass flow rate','7 NetWeight','Liquid flow rate','Actual RPM','Torque',' D_v50']])\n",
    "lstm_input_predict_10_200 = lstm_input_predict_10_20[len(combined_datafile_single)-200:len(combined_datafile_single)]\n",
    "lstm_input_predict_10_200 = lstm_input_predict_10_200.reshape(1,200,6)\n",
    "torque_predict_10_20 = lstm_torque.predict(lstm_input_predict_10_200)\n",
    "torque_predict_10_20 = Y_scaler_tor.inverse_transform(torque_predict_10_20)\n",
    "d50_predict_10_20 = lstm_d50.predict(lstm_input_predict_10_200)\n",
    "d50_predict_10_20 = Y_scaler_d50.inverse_transform(d50_predict_10_20)"
   ]
  },
  {
   "cell_type": "code",
   "execution_count": null,
   "metadata": {},
   "outputs": [],
   "source": [
    "plt.figure()\n",
    "time = np.linspace(0,600,120)\n",
    "plt.plot(time,np.reshape(d50_pred_10[0,:120],(120,)))\n",
    "time1 = np.linspace(600,1200,120)\n",
    "plt.plot(time1,np.reshape(d50_predict_10_20[0,:120],(120,)))\n",
    "time2 = np.linspace(1200,1740,108)\n",
    "plt.plot(time2,np.reshape(d50_predict_10_20[0,:120],(120,))[:108])\n",
    "plt.ylim([800,1000])\n",
    "\n",
    "plt.plot(time,np.reshape(d50_pred_10[0,:120],(120,))/2.1)\n",
    "plt.plot(time1,np.reshape(d50_predict_10_20[0,:120],(120,))/2.1)\n",
    "plt.plot(time2,np.reshape(d50_predict_10_20[0,:120],(120,))[:108]/2.1)\n",
    "plt.ylim([400,1200])\n",
    "plt.legend(['D_50 exp Wet','Predicted D_50 10-20 mins Wet','Predicted D_50 20-29 mins Wet','D_50 exp Dry','Predicted D_50 10-20 mins Dry','Predicted D_50 20-29 mins Dry'])\n",
    "plt.ylabel('D_50 ($\\mu$m)')\n",
    "plt.xlabel('Time (seconds)')\n",
    "plt.figure()\n",
    "plt.plot(time,np.reshape(torque_pred_10[0,:120],(120,)))\n",
    "plt.plot(time1,np.reshape(torque_predict_10_20[0,:120],(120,)))\n",
    "plt.plot(time2,np.reshape(torque_predict_10_20[0,:120],(120,))[:108])\n",
    "plt.legend(['Torque exp','Predicted Torque 10-20 mins','Predicted Torque 20-29 mins'])\n",
    "plt.xlabel('Time (seconds)')\n",
    "plt.ylabel('Torque (N/m.s)')\n",
    "plt.ylim([1,4])\n",
    "energy_used_10 = np.trapz(np.multiply(combined_datafile_single['Actual RPM'][:120],combined_datafile_single['Torque'][:120]) * (2*np.pi/60))\n",
    "energy_used_per_weight = energy_used_10 / (np.mean(combined_datafile_single['Mass flow rate'][:120]) * (10 * 60) /3600)\n",
    "print(energy_used_10)\n",
    "energy_used_10_20 = np.trapz(np.multiply(combined_datafile_single['Actual RPM'][120:240],np.reshape(torque_predict_10_20[0,:120],(120,))) * (2*np.pi/60))\n",
    "energy_used_per_weight_10_20 = energy_used_10_20 / (np.mean(combined_datafile_single['Mass flow rate'][120:320]) * (10 * 60) /3600)\n",
    "print((energy_used_10_20))\n",
    "energy_used_20_end = np.trapz(np.multiply(combined_datafile_single['Actual RPM'][240:len(combined_datafile_single)],np.reshape(torque_predict_10_20[0,:120],(120,))[:len(combined_datafile_single)-240]) * (2*np.pi/60))\n",
    "energy_used_per_weight_20_end = energy_used_20_end / (np.mean(combined_datafile_single['Mass flow rate'][240:len(combined_datafile_single)]) * (4 * 60) /3600)\n",
    "print(energy_used_20_end)\n",
    "no_opt_energy = np.trapz(np.multiply(combined_datafile_single['Actual RPM'],combined_datafile_single['Torque']) * (2*np.pi/60))\n",
    "energy_used_per_weight_no_opt = no_opt_energy / (np.mean(combined_datafile_single['Mass flow rate']) * (run_time * 60) /3600)\n",
    "print(no_opt_energy)\n",
    "print(energy_used_10+energy_used_10_20+energy_used_20_end)\n",
    "print((no_opt_energy-energy_used_10-energy_used_10_20-energy_used_20_end)/no_opt_energy)"
   ]
  },
  {
   "cell_type": "code",
   "execution_count": null,
   "metadata": {},
   "outputs": [],
   "source": []
  }
 ],
 "metadata": {
  "interpreter": {
   "hash": "cef7cd0469155a29afd544290d573430e35716703753df15e7b5f11a91b75929"
  },
  "kernelspec": {
   "display_name": "Python 3.7.7 64-bit ('base': conda)",
   "name": "python3"
  },
  "language_info": {
   "codemirror_mode": {
    "name": "ipython",
    "version": 3
   },
   "file_extension": ".py",
   "mimetype": "text/x-python",
   "name": "python",
   "nbconvert_exporter": "python",
   "pygments_lexer": "ipython3",
   "version": "3.7.7"
  },
  "orig_nbformat": 4
 },
 "nbformat": 4,
 "nbformat_minor": 2
}
