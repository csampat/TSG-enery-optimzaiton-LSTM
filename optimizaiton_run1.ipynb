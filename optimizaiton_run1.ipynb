{
 "cells": [
  {
   "cell_type": "code",
   "execution_count": 2,
   "id": "02d81b48",
   "metadata": {},
   "outputs": [],
   "source": [
    "from tensorflow import keras\n",
    "from HelperFunctions.FileReader import FileReader\n",
    "from HelperFunctions.OptimzationClass import OptmiziationClass\n",
    "from sklearn.preprocessing import MinMaxScaler, StandardScaler\n",
    "\n",
    "\n",
    "import pandas as pd \n",
    "import numpy as np\n",
    "import matplotlib.pyplot as plt\n"
   ]
  },
  {
   "cell_type": "code",
   "execution_count": 5,
   "id": "055639b3",
   "metadata": {},
   "outputs": [],
   "source": [
    "# loading pre-trained tensorflow models \n",
    "lstm_d50 = keras.models.load_model('Bidirectional_LSTM_Multivariate_alldatafiles_ D_v50_test.h5')\n",
    "lstm_torque = keras.models.load_model('Bidirectional_LSTM_Multivariate_alldatafiles_torque_test.h5')\n",
    "lstm_zone2 = keras.models.load_model('Bidirectional_LSTM_Multivariate_alldatafiles_Zone 2_test.h5')\n",
    "lstm_zone3 = keras.models.load_model('Bidirectional_LSTM_Multivariate_alldatafiles_Zone 3_test.h5')\n",
    "lstm_zone4 = keras.models.load_model('Bidirectional_LSTM_Multivariate_alldatafiles_Zone 4_test.h5')\n",
    "lstm_zone5 = keras.models.load_model('Bidirectional_LSTM_Multivariate_alldatafiles_Zone 5_test.h5')\n",
    "lstm_zone6 = keras.models.load_model('Bidirectional_LSTM_Multivariate_alldatafiles_Zone 6_test.h5')\n",
    "lstm_zone7 = keras.models.load_model('Bidirectional_LSTM_Multivariate_alldatafiles_Zone 7_test.h5')\n",
    "lstm_zone8 = keras.models.load_model('Bidirectional_LSTM_Multivariate_alldatafiles_Zone 8_test.h5')"
   ]
  },
  {
   "cell_type": "code",
   "execution_count": null,
   "id": "6741984e",
   "metadata": {},
   "outputs": [],
   "source": []
  }
 ],
 "metadata": {
  "kernelspec": {
   "display_name": "Python 3 (ipykernel)",
   "language": "python",
   "name": "python3"
  },
  "language_info": {
   "codemirror_mode": {
    "name": "ipython",
    "version": 3
   },
   "file_extension": ".py",
   "mimetype": "text/x-python",
   "name": "python",
   "nbconvert_exporter": "python",
   "pygments_lexer": "ipython3",
   "version": "3.8.5"
  }
 },
 "nbformat": 4,
 "nbformat_minor": 5
}
